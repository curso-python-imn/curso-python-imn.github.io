{
 "cells": [
  {
   "cell_type": "markdown",
   "id": "4959935a",
   "metadata": {},
   "source": [
    "# Python - exploración y visualización de datos"
   ]
  },
  {
   "cell_type": "markdown",
   "id": "13e68070",
   "metadata": {},
   "source": [
    "## Sobre el Titanic\n",
    "\n",
    "El [RMS Titanic](https://es.wikipedia.org/wiki/RMS_Titanic) fue un transatlántico británico que se hundió en 1912 durante su viaje inaugural entre Southampton y Nueva York. Fallecieron más de 1500 personas de las 2224 que viajaban en el barco.\n",
    "\n",
    "El naufragio del Titanic conmocionó e indignó al mundo entero por el elevado número de víctimas mortales y por los errores cometidos en el accidente. Solamente portaba botes salvavidas para 1178 pasajeros, poco más de la mitad de los que iban a bordo en su viaje inaugural y un tercio de su capacidad total de 3547 personas. \n",
    "\n",
    "El Titanic es quizá el barco más famoso de la historia y su memoria se mantiene muy viva gracias a numerosos libros, canciones, películas, exposiciones y memoriales."
   ]
  },
  {
   "cell_type": "markdown",
   "id": "7ed42c1c",
   "metadata": {},
   "source": [
    "![El RMS Titanic](https://upload.wikimedia.org/wikipedia/commons/thumb/f/fd/RMS_Titanic_3.jpg/800px-RMS_Titanic_3.jpg)"
   ]
  },
  {
   "cell_type": "markdown",
   "id": "69a93914",
   "metadata": {},
   "source": [
    "El RMS Titanic al salir de Southampton el 10 de abril de 1912. Imagen de dominio público disponible en [Wikimedia Commons](https://commons.wikimedia.org/wiki/File:RMS_Titanic_3.jpg)."
   ]
  },
  {
   "cell_type": "markdown",
   "id": "fe9c6da1",
   "metadata": {},
   "source": [
    "## Análisis de datos del Titanic"
   ]
  },
  {
   "cell_type": "markdown",
   "id": "b0e6b698",
   "metadata": {},
   "source": [
    "Se proporcionan dos archivos CSV (valores separados por comas) con datos sobre los pasajeros del Titanic:\n",
    "\n",
    "- [entrenamiento.csv](https://github.com/curso-python-imn/curso-python-imn.github.io/blob/main/datos/titanic/entrenamiento.csv): contiene datos detallados sobre un subconjunto de pasajeros (891 registros), incluyendo una columna que indica si cada uno sobrevivió o no al naufragio.\n",
    "- [evaluacion.csv](https://github.com/curso-python-imn/curso-python-imn.github.io/blob/main/datos/titanic/evaluacion.csv): contiene otro subconjunto (418 registros) con las mismas columnas del conjunto de datos de entrenamiento, excepto la que indica si el pasajero sobrevivió al naufragio."
   ]
  },
  {
   "cell_type": "markdown",
   "id": "388eb261",
   "metadata": {},
   "source": [
    "Para analizar los datos, se utilizarán las bibliotecas [numpy](https://numpy.org/) y [pandas](https://pandas.pydata.org/) de Python."
   ]
  },
  {
   "cell_type": "code",
   "execution_count": 1,
   "id": "8074bf2f",
   "metadata": {},
   "outputs": [],
   "source": [
    "import numpy as np # biblioteca para álgebra lineal\n",
    "import pandas as pd # biblioteca para análisis de datos"
   ]
  },
  {
   "cell_type": "markdown",
   "id": "498b279f",
   "metadata": {},
   "source": [
    "### Visualización"
   ]
  },
  {
   "cell_type": "code",
   "execution_count": 2,
   "id": "5c5cf099",
   "metadata": {},
   "outputs": [
    {
     "data": {
      "text/html": [
       "<div>\n",
       "<style scoped>\n",
       "    .dataframe tbody tr th:only-of-type {\n",
       "        vertical-align: middle;\n",
       "    }\n",
       "\n",
       "    .dataframe tbody tr th {\n",
       "        vertical-align: top;\n",
       "    }\n",
       "\n",
       "    .dataframe thead th {\n",
       "        text-align: right;\n",
       "    }\n",
       "</style>\n",
       "<table border=\"1\" class=\"dataframe\">\n",
       "  <thead>\n",
       "    <tr style=\"text-align: right;\">\n",
       "      <th></th>\n",
       "      <th>PassengerId</th>\n",
       "      <th>Survived</th>\n",
       "      <th>Pclass</th>\n",
       "      <th>Name</th>\n",
       "      <th>Sex</th>\n",
       "      <th>Age</th>\n",
       "      <th>SibSp</th>\n",
       "      <th>Parch</th>\n",
       "      <th>Ticket</th>\n",
       "      <th>Fare</th>\n",
       "      <th>Cabin</th>\n",
       "      <th>Embarked</th>\n",
       "    </tr>\n",
       "  </thead>\n",
       "  <tbody>\n",
       "    <tr>\n",
       "      <th>0</th>\n",
       "      <td>1</td>\n",
       "      <td>0</td>\n",
       "      <td>3</td>\n",
       "      <td>Braund, Mr. Owen Harris</td>\n",
       "      <td>male</td>\n",
       "      <td>22.0</td>\n",
       "      <td>1</td>\n",
       "      <td>0</td>\n",
       "      <td>A/5 21171</td>\n",
       "      <td>7.2500</td>\n",
       "      <td>NaN</td>\n",
       "      <td>S</td>\n",
       "    </tr>\n",
       "    <tr>\n",
       "      <th>1</th>\n",
       "      <td>2</td>\n",
       "      <td>1</td>\n",
       "      <td>1</td>\n",
       "      <td>Cumings, Mrs. John Bradley (Florence Briggs Th...</td>\n",
       "      <td>female</td>\n",
       "      <td>38.0</td>\n",
       "      <td>1</td>\n",
       "      <td>0</td>\n",
       "      <td>PC 17599</td>\n",
       "      <td>71.2833</td>\n",
       "      <td>C85</td>\n",
       "      <td>C</td>\n",
       "    </tr>\n",
       "    <tr>\n",
       "      <th>2</th>\n",
       "      <td>3</td>\n",
       "      <td>1</td>\n",
       "      <td>3</td>\n",
       "      <td>Heikkinen, Miss. Laina</td>\n",
       "      <td>female</td>\n",
       "      <td>26.0</td>\n",
       "      <td>0</td>\n",
       "      <td>0</td>\n",
       "      <td>STON/O2. 3101282</td>\n",
       "      <td>7.9250</td>\n",
       "      <td>NaN</td>\n",
       "      <td>S</td>\n",
       "    </tr>\n",
       "    <tr>\n",
       "      <th>3</th>\n",
       "      <td>4</td>\n",
       "      <td>1</td>\n",
       "      <td>1</td>\n",
       "      <td>Futrelle, Mrs. Jacques Heath (Lily May Peel)</td>\n",
       "      <td>female</td>\n",
       "      <td>35.0</td>\n",
       "      <td>1</td>\n",
       "      <td>0</td>\n",
       "      <td>113803</td>\n",
       "      <td>53.1000</td>\n",
       "      <td>C123</td>\n",
       "      <td>S</td>\n",
       "    </tr>\n",
       "    <tr>\n",
       "      <th>4</th>\n",
       "      <td>5</td>\n",
       "      <td>0</td>\n",
       "      <td>3</td>\n",
       "      <td>Allen, Mr. William Henry</td>\n",
       "      <td>male</td>\n",
       "      <td>35.0</td>\n",
       "      <td>0</td>\n",
       "      <td>0</td>\n",
       "      <td>373450</td>\n",
       "      <td>8.0500</td>\n",
       "      <td>NaN</td>\n",
       "      <td>S</td>\n",
       "    </tr>\n",
       "  </tbody>\n",
       "</table>\n",
       "</div>"
      ],
      "text/plain": [
       "   PassengerId  Survived  Pclass  \\\n",
       "0            1         0       3   \n",
       "1            2         1       1   \n",
       "2            3         1       3   \n",
       "3            4         1       1   \n",
       "4            5         0       3   \n",
       "\n",
       "                                                Name     Sex   Age  SibSp  \\\n",
       "0                            Braund, Mr. Owen Harris    male  22.0      1   \n",
       "1  Cumings, Mrs. John Bradley (Florence Briggs Th...  female  38.0      1   \n",
       "2                             Heikkinen, Miss. Laina  female  26.0      0   \n",
       "3       Futrelle, Mrs. Jacques Heath (Lily May Peel)  female  35.0      1   \n",
       "4                           Allen, Mr. William Henry    male  35.0      0   \n",
       "\n",
       "   Parch            Ticket     Fare Cabin Embarked  \n",
       "0      0         A/5 21171   7.2500   NaN        S  \n",
       "1      0          PC 17599  71.2833   C85        C  \n",
       "2      0  STON/O2. 3101282   7.9250   NaN        S  \n",
       "3      0            113803  53.1000  C123        S  \n",
       "4      0            373450   8.0500   NaN        S  "
      ]
     },
     "execution_count": 2,
     "metadata": {},
     "output_type": "execute_result"
    }
   ],
   "source": [
    "# Carga de los datos de un archivo en un data frame de pandas\n",
    "datos_entrenamiento = pd.read_csv(\"https://raw.githubusercontent.com/curso-python-imn/curso-python-imn.github.io/main/datos/titanic/entrenamiento.csv\")\n",
    "\n",
    "# Despliegue de los primeros registros\n",
    "datos_entrenamiento.head()"
   ]
  },
  {
   "cell_type": "markdown",
   "id": "1aed887d",
   "metadata": {},
   "source": [
    "### Exploración"
   ]
  },
  {
   "cell_type": "markdown",
   "id": "7f3232c3",
   "metadata": {},
   "source": [
    "#### Sexo"
   ]
  },
  {
   "cell_type": "code",
   "execution_count": 7,
   "id": "ee8f6097",
   "metadata": {},
   "outputs": [
    {
     "name": "stdout",
     "output_type": "stream",
     "text": [
      "Porcentaje de mujeres que sobrevivieron: 0.74\n"
     ]
    }
   ],
   "source": [
    "mujeres_sobrevivientes = datos_entrenamiento.loc[datos_entrenamiento.Sex == 'female'][\"Survived\"]\n",
    "tasa_sobrevivencia_mujeres = sum(mujeres_sobrevivientes)/len(mujeres_sobrevivientes)\n",
    "\n",
    "print(\"Porcentaje de mujeres que sobrevivieron: {:3.2f}\".format(tasa_sobrevivencia_mujeres))"
   ]
  },
  {
   "cell_type": "code",
   "execution_count": 8,
   "id": "49c70881",
   "metadata": {},
   "outputs": [
    {
     "name": "stdout",
     "output_type": "stream",
     "text": [
      "Porcentaje de hombres que sobrevivieron: 0.19\n"
     ]
    }
   ],
   "source": [
    "hombres_sobrevivientes = datos_entrenamiento.loc[datos_entrenamiento.Sex == 'male'][\"Survived\"]\n",
    "tasa_sobrevivencia_hombres = sum(hombres_sobrevivientes)/len(hombres_sobrevivientes)\n",
    "\n",
    "print(\"Porcentaje de hombres que sobrevivieron: {:3.2f}\".format(tasa_sobrevivencia_hombres))"
   ]
  },
  {
   "cell_type": "markdown",
   "id": "c6f6bfe3",
   "metadata": {},
   "source": [
    "#### Clase"
   ]
  },
  {
   "cell_type": "code",
   "execution_count": 9,
   "id": "b349d43f",
   "metadata": {},
   "outputs": [
    {
     "name": "stdout",
     "output_type": "stream",
     "text": [
      "Porcentaje de pasajeros de primera clase que sobrevivieron: 0.63\n"
     ]
    }
   ],
   "source": [
    "clase1_sobrevivientes = datos_entrenamiento.loc[datos_entrenamiento.Pclass == 1][\"Survived\"]\n",
    "tasa_sobrevivencia_clase1 = sum(clase1_sobrevivientes)/len(clase1_sobrevivientes)\n",
    "\n",
    "print(\"Porcentaje de pasajeros de primera clase que sobrevivieron: {:3.2f}\".format(tasa_sobrevivencia_clase1))"
   ]
  },
  {
   "cell_type": "code",
   "execution_count": 11,
   "id": "c28c8649",
   "metadata": {},
   "outputs": [
    {
     "name": "stdout",
     "output_type": "stream",
     "text": [
      "Porcentaje de pasajeros de segunda clase que sobrevivieron: 0.47\n"
     ]
    }
   ],
   "source": [
    "clase2_sobrevivientes = datos_entrenamiento.loc[datos_entrenamiento.Pclass == 2][\"Survived\"]\n",
    "tasa_sobrevivencia_clase2 = sum(clase2_sobrevivientes)/len(clase2_sobrevivientes)\n",
    "\n",
    "print(\"Porcentaje de pasajeros de segunda clase que sobrevivieron: {:3.2f}\".format(tasa_sobrevivencia_clase2))"
   ]
  },
  {
   "cell_type": "code",
   "execution_count": 12,
   "id": "8382d015",
   "metadata": {},
   "outputs": [
    {
     "name": "stdout",
     "output_type": "stream",
     "text": [
      "Porcentaje de pasajeros de tercera clase que sobrevivieron: 0.28\n"
     ]
    }
   ],
   "source": [
    "clase3_sobrevivientes = datos_entrenamiento.loc[datos_entrenamiento.Pclass == 3][\"Survived\"]\n",
    "tasa_sobrevivencia_clase3 = sum(clase1_sobrevivientes)/len(clase3_sobrevivientes)\n",
    "\n",
    "print(\"Porcentaje de pasajeros de tercera clase que sobrevivieron: {:3.2f}\".format(tasa_sobrevivencia_clase3))"
   ]
  },
  {
   "cell_type": "markdown",
   "id": "331eb088",
   "metadata": {},
   "source": [
    "#### Edad"
   ]
  },
  {
   "cell_type": "code",
   "execution_count": 18,
   "id": "5753447a",
   "metadata": {},
   "outputs": [
    {
     "name": "stdout",
     "output_type": "stream",
     "text": [
      "Porcentaje de menores de edad que sobrevivieron: 0.54\n"
     ]
    }
   ],
   "source": [
    "sobrevivientes_menores = datos_entrenamiento.loc[datos_entrenamiento.Age < 18][\"Survived\"]\n",
    "tasa_sobrevivencia_menores = sum(sobrevivientes_menores)/len(sobrevivientes_menores)\n",
    "\n",
    "print(\"Porcentaje de menores de edad que sobrevivieron: {:3.2f}\".format(tasa_sobrevivencia_menores))"
   ]
  },
  {
   "cell_type": "code",
   "execution_count": 20,
   "id": "af6dd44f",
   "metadata": {},
   "outputs": [
    {
     "name": "stdout",
     "output_type": "stream",
     "text": [
      "Porcentaje de mayores de edad que sobrevivieron: 0.38\n"
     ]
    }
   ],
   "source": [
    "sobrevivientes_mayores = datos_entrenamiento.loc[datos_entrenamiento.Age >= 18][\"Survived\"]\n",
    "tasa_sobrevivencia_mayores = sum(sobrevivientes_mayores)/len(sobrevivientes_mayores)\n",
    "\n",
    "print(\"Porcentaje de mayores de edad que sobrevivieron: {:3.2f}\".format(tasa_sobrevivencia_mayores))"
   ]
  },
  {
   "cell_type": "code",
   "execution_count": null,
   "id": "d4ae1103",
   "metadata": {},
   "outputs": [],
   "source": []
  }
 ],
 "metadata": {
  "kernelspec": {
   "display_name": "Python 3 (ipykernel)",
   "language": "python",
   "name": "python3"
  },
  "language_info": {
   "codemirror_mode": {
    "name": "ipython",
    "version": 3
   },
   "file_extension": ".py",
   "mimetype": "text/x-python",
   "name": "python",
   "nbconvert_exporter": "python",
   "pygments_lexer": "ipython3",
   "version": "3.9.7"
  }
 },
 "nbformat": 4,
 "nbformat_minor": 5
}
