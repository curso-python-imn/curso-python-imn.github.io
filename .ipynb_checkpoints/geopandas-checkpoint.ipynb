{
 "cells": [
  {
   "cell_type": "markdown",
   "metadata": {},
   "source": [
    "# GeoPandas"
   ]
  },
  {
   "cell_type": "markdown",
   "metadata": {},
   "source": [
    "[GeoPandas](http://geopandas.org/) es un proyecto de software libre que extiende los tipos de datos de [Pandas](http://pandas.pydata.org/) para incorporar objetos geométricos (puntos, líneas, polígonos, etc). GeoPandas se apoya en las bibliotecas [Shapely](https://pypi.org/project/Shapely/) para realizar las operaciones geométricas, [Fiona](https://github.com/Toblerity/Fiona) para acceder a los datos (ej. en archivos) y [Descartes](https://bitbucket.org/sgillies/descartes/src/default/) y [Matplotlib](https://matplotlib.org/) para graficación.\n",
    "\n",
    "El objetivo de GeoPandas es facilitar el trabajo con datos geoespaciales en el lenguaje Python, lo que se logra a través de la implementación de estructuras que permiten manejar simultáneamente grandes cantidades de datos. Las dos estructuras principales de GeoPandas son:\n",
    "\n",
    "- [GeoSeries](http://geopandas.org/data_structures.html#geoseries): es un vector en el que cada elemento es un conjunto de una o varias geometrías correspondientes a una observación. Por ejemplo, el polígono (o multipolígono) que representa una provincia.\n",
    "- [GeoDataFrame](http://geopandas.org/data_structures.html#geodataframe): es una estructura tabular (i.e. con filas y columnas) de datos geométricos y no geométricos (ej. textos, números). El conjunto de geometrías se implementa a través de GeoSeries.\n",
    "\n",
    "Con estas estructuras, es posible realizar desde Python operaciones \"masivas\" de datos, las cuales de otra forma requerirían de una base de datos geoespacial (ej. [PostgreSQL/PostGIS](https://postgis.net/))."
   ]
  },
  {
   "cell_type": "markdown",
   "metadata": {},
   "source": [
    "## Instalación"
   ]
  },
  {
   "cell_type": "markdown",
   "metadata": {},
   "source": [
    "Para instalar el paquete mediante **conda**, debe ejecutarse la siguiente instrucción desde la línea de comandos de Anaconda:\n",
    "\n",
    "```\n",
    "conda install geopandas\n",
    "```"
   ]
  },
  {
   "cell_type": "markdown",
   "metadata": {},
   "source": [
    "## Importación"
   ]
  },
  {
   "cell_type": "code",
   "execution_count": null,
   "metadata": {},
   "outputs": [],
   "source": [
    "%matplotlib inline\n",
    "\n",
    "import pandas as pd\n",
    "import geopandas\n",
    "\n",
    "from shapely.geometry import Point, Polygon\n",
    "\n",
    "# Cantidad máxima de registros que se despliegan en un GeoDataFrame\n",
    "pd.options.display.max_rows = 10"
   ]
  },
  {
   "cell_type": "markdown",
   "metadata": {},
   "source": [
    "## Ejemplos"
   ]
  },
  {
   "cell_type": "markdown",
   "metadata": {},
   "source": [
    "Para los siguientes ejemplos, se utilizará el _shapefile_ de países de [Natural Earth](https://www.naturalearthdata.com/), disponible en [http://www.naturalearthdata.com/downloads/110m-cultural-vectors/110m-admin-0-countries/](http://www.naturalearthdata.com/downloads/110m-cultural-vectors/110m-admin-0-countries/). El enlace anterior brinda acceso a un archivo ZIP que debe colocarse en el directorio de datos (/datos). Una vez hecho esto, se procede a almacenar los datos en un GeoDataFrame, a través de la función **read_file()**."
   ]
  },
  {
   "cell_type": "code",
   "execution_count": null,
   "metadata": {},
   "outputs": [],
   "source": [
    "paises = geopandas.read_file(\"zip://./datos/ne_110m_admin_0_countries.zip\")\n",
    "# si se descomprimió el archivo, debe usarse el comando:\n",
    "# paises = geopandas.read_file(\"datos/ne_110m_admin_0_countries/ne_110m_admin_0_countries.shp\")"
   ]
  },
  {
   "cell_type": "code",
   "execution_count": null,
   "metadata": {},
   "outputs": [],
   "source": [
    "# paises es una variable del tipo GeoDataFrame\n",
    "type(paises)"
   ]
  },
  {
   "cell_type": "markdown",
   "metadata": {},
   "source": [
    "### Visualización de datos tabulares"
   ]
  },
  {
   "cell_type": "markdown",
   "metadata": {},
   "source": [
    "Los datos de un GeoDataFrame pueden inspeccionarse con la función **head()**, la cual retorna los primeros registros de un GeoDataFrame. Nótese la columna con el tipo de datos geométricos."
   ]
  },
  {
   "cell_type": "code",
   "execution_count": null,
   "metadata": {},
   "outputs": [],
   "source": [
    "paises.head()"
   ]
  },
  {
   "cell_type": "code",
   "execution_count": null,
   "metadata": {},
   "outputs": [],
   "source": [
    "# Despliegue de las geometrías\n",
    "paises.geometry"
   ]
  },
  {
   "cell_type": "code",
   "execution_count": null,
   "metadata": {},
   "outputs": [],
   "source": [
    "# paises.geometry es una variable del tipo GeoSeries\n",
    "type(paises.geometry)"
   ]
  },
  {
   "cell_type": "code",
   "execution_count": null,
   "metadata": {},
   "outputs": [],
   "source": [
    "# Despliegue de la lista de columnas\n",
    "paises.columns"
   ]
  },
  {
   "cell_type": "code",
   "execution_count": null,
   "metadata": {},
   "outputs": [],
   "source": [
    "# Despliegue de un subconjunto de columnas\n",
    "paises[['NAME_ES','CONTINENT','ECONOMY']]"
   ]
  },
  {
   "cell_type": "markdown",
   "metadata": {},
   "source": [
    "**Funciones en columnas**"
   ]
  },
  {
   "cell_type": "code",
   "execution_count": null,
   "metadata": {},
   "outputs": [],
   "source": [
    "# Promedio\n",
    "paises['POP_EST'].mean()"
   ]
  },
  {
   "cell_type": "code",
   "execution_count": null,
   "metadata": {},
   "outputs": [],
   "source": [
    "# Máximo\n",
    "paises['POP_EST'].max()"
   ]
  },
  {
   "cell_type": "code",
   "execution_count": null,
   "metadata": {},
   "outputs": [],
   "source": [
    "# Mínimo\n",
    "paises['POP_EST'].min()"
   ]
  },
  {
   "cell_type": "markdown",
   "metadata": {},
   "source": [
    "**Filtrado**"
   ]
  },
  {
   "cell_type": "code",
   "execution_count": null,
   "metadata": {},
   "outputs": [],
   "source": [
    "paises[paises['CONTINENT'] == 'Africa']"
   ]
  },
  {
   "cell_type": "code",
   "execution_count": null,
   "metadata": {},
   "outputs": [],
   "source": [
    "paises[paises['POP_EST'] <= 100000]"
   ]
  },
  {
   "cell_type": "markdown",
   "metadata": {},
   "source": [
    "### Visualización de datos geoespaciales"
   ]
  },
  {
   "cell_type": "markdown",
   "metadata": {},
   "source": [
    "La función [plot()](http://geopandas.org/reference.html#geopandas.GeoDataFrame.plot) proporciona una manera sencilla de visualizar los datos en un mapa."
   ]
  },
  {
   "cell_type": "code",
   "execution_count": null,
   "metadata": {},
   "outputs": [],
   "source": [
    "paises.plot()"
   ]
  },
  {
   "cell_type": "code",
   "execution_count": null,
   "metadata": {},
   "outputs": [],
   "source": [
    "paises_asia = paises[paises['CONTINENT'] == 'Asia']\n",
    "paises_asia.plot()"
   ]
  },
  {
   "cell_type": "code",
   "execution_count": null,
   "metadata": {},
   "outputs": [],
   "source": [
    "# Cambio de tamaño del mapa\n",
    "paises_asia.plot(figsize=(15, 10))"
   ]
  },
  {
   "cell_type": "markdown",
   "metadata": {},
   "source": [
    "**Colores**"
   ]
  },
  {
   "cell_type": "code",
   "execution_count": null,
   "metadata": {},
   "outputs": [],
   "source": [
    "paises_asia.plot(figsize=(15, 10), cmap=\"rainbow\")"
   ]
  },
  {
   "cell_type": "code",
   "execution_count": null,
   "metadata": {},
   "outputs": [],
   "source": [
    "# Colores asignados con base en una columna\n",
    "paises_asia.plot(figsize=(15, 10), cmap=\"YlOrRd\", column=\"POP_EST\")"
   ]
  },
  {
   "cell_type": "markdown",
   "metadata": {},
   "source": [
    "Para más opciones de colores, puede consultarse [https://matplotlib.org/users/colormaps.html](https://matplotlib.org/users/colormaps.html)."
   ]
  },
  {
   "cell_type": "markdown",
   "metadata": {},
   "source": [
    "#### Visualización de múltiples capas"
   ]
  },
  {
   "cell_type": "markdown",
   "metadata": {},
   "source": [
    "Para los siguientes ejemplos, deben descargarse los siguientes _shapefiles_ comprimidos en formato ZIP:\n",
    "\n",
    "- **Ciudades**: [http://www.naturalearthdata.com/downloads/110m-cultural-vectors/110m-populated-places/](http://www.naturalearthdata.com/downloads/110m-cultural-vectors/110m-populated-places/)\n",
    "- **Ríos**: [http://www.naturalearthdata.com/downloads/50m-physical-vectors/50m-rivers-lake-centerlines/](http://www.naturalearthdata.com/downloads/50m-physical-vectors/50m-rivers-lake-centerlines/)\n",
    "\n",
    "Ambas capas deben copiarse en el directorio de datos. Seguidamente, su contenido se almacena en dos GeoDataFrames:"
   ]
  },
  {
   "cell_type": "code",
   "execution_count": null,
   "metadata": {},
   "outputs": [],
   "source": [
    "ciudades = geopandas.read_file(\"zip://./datos/ne_110m_populated_places.zip\")\n",
    "rios = geopandas.read_file(\"zip://./datos/ne_50m_rivers_lake_centerlines.zip\")"
   ]
  },
  {
   "cell_type": "markdown",
   "metadata": {},
   "source": [
    "Se crea un subconjunto de datos para el continente africano:"
   ]
  },
  {
   "cell_type": "code",
   "execution_count": null,
   "metadata": {},
   "outputs": [],
   "source": [
    "paises_africa = paises[paises['CONTINENT'] == 'Africa']"
   ]
  },
  {
   "cell_type": "code",
   "execution_count": null,
   "metadata": {},
   "outputs": [],
   "source": [
    "ax = paises.plot(edgecolor='black', facecolor='none', figsize=(15, 10))\n",
    "rios.plot(ax=ax, color='blue')\n",
    "ciudades.plot(ax=ax, color='red')\n",
    "ax.set(xlim=(-20, 60), ylim=(-40, 40))"
   ]
  },
  {
   "cell_type": "markdown",
   "metadata": {},
   "source": [
    "<div class=\"alert alert-success\">\n",
    " <strong>Ejercicio</strong>:\n",
    "\n",
    "Descargue del SNIT las capas de:\n",
    "* Límite provincial [(http://www.snitcr.go.cr/servicios_ogc_lista_capas?k=bm9kbzo6MjY=&nombre=IGN%20Cartograf%C3%ADa%201:5mil)](http://www.snitcr.go.cr/servicios_ogc_lista_capas?k=bm9kbzo6MjY=&nombre=IGN%20Cartograf%C3%ADa%201:5mil)\n",
    "* Aeródromos y red vial [(http://www.snitcr.go.cr/servicios_ogc_lista_capas?k=bm9kbzo6MjY=&nombre=IGN%20Cartograf%C3%ADa%201:5mil)](http://www.snitcr.go.cr/servicios_ogc_lista_capas?k=bm9kbzo6MjY=&nombre=IGN%20Cartograf%C3%ADa%201:5mil)\n",
    "\n",
    "Despliegue las tres capas en un solo mapa.\n",
    "\n",
    "</div>"
   ]
  },
  {
   "cell_type": "markdown",
   "metadata": {},
   "source": [
    "**Datos geoespaciales en archivos de texto**"
   ]
  },
  {
   "cell_type": "markdown",
   "metadata": {},
   "source": [
    "En estos casos, puede crearse un DataFrame convencional a partir del archivo de texto y un conjunto de geometrías a partir de las columnas correspondientes (ej. longitud, latitud). Posteriormente, se crea un GeoDataFrame combinando el DataFrame y las geometrías. A continuación, se presenta un ejemplo."
   ]
  },
  {
   "cell_type": "markdown",
   "metadata": {},
   "source": [
    "Para comenzar, descargue el archivo de datos de presencia en Costa Rica del género de aves [Trogon](https://en.wikipedia.org/wiki/Trogon_(genus)) de [http://api.gbif.org/v1/occurrence/download/request/0021444-190621201848488.zip](http://api.gbif.org/v1/occurrence/download/request/0021444-190621201848488.zip) y descomprímalo."
   ]
  },
  {
   "cell_type": "code",
   "execution_count": null,
   "metadata": {},
   "outputs": [],
   "source": [
    "# Carga de los datos en un DataFrame\n",
    "trogones_df = pd.read_csv(\"datos/0021444-190621201848488.csv\", sep='\\t')"
   ]
  },
  {
   "cell_type": "code",
   "execution_count": null,
   "metadata": {},
   "outputs": [],
   "source": [
    "trogones_df.head()"
   ]
  },
  {
   "cell_type": "code",
   "execution_count": null,
   "metadata": {},
   "outputs": [],
   "source": [
    "# Despliegue de un subconjunto de columnas\n",
    "trogones_df[['species', 'decimalLongitude', 'decimalLatitude', 'eventDate']]"
   ]
  },
  {
   "cell_type": "code",
   "execution_count": null,
   "metadata": {},
   "outputs": [],
   "source": [
    "# Se crea una lista de geometrías de puntos\n",
    "puntos = [Point(xy) for xy in zip(trogones_df[\"decimalLongitude\"], trogones_df[\"decimalLatitude\"])]\n",
    "puntos[:5]"
   ]
  },
  {
   "cell_type": "code",
   "execution_count": null,
   "metadata": {},
   "outputs": [],
   "source": [
    "# Se combina el DataFrame y las geometrías en un GeoDataFrame, junto con un sistema de coordenadas\n",
    "trogones=geopandas.GeoDataFrame(trogones_df, crs={\"init\": \"epsg:4326\"}, geometry=puntos)"
   ]
  },
  {
   "cell_type": "code",
   "execution_count": null,
   "metadata": {},
   "outputs": [],
   "source": [
    "trogones.head()"
   ]
  },
  {
   "cell_type": "code",
   "execution_count": null,
   "metadata": {},
   "outputs": [],
   "source": [
    "# Mapa de los registros de presencia de trogones\n",
    "trogones.plot(figsize=(15, 10), color=\"red\", markersize=5)"
   ]
  },
  {
   "cell_type": "markdown",
   "metadata": {},
   "source": [
    "<div class=\"alert alert-success\">\n",
    " <strong>Ejercicio</strong>:\n",
    "\n",
    "Despliegue los registros de presencia de trogones sobre la capa de provincias del SNIT.\n",
    "\n",
    "</div>"
   ]
  },
  {
   "cell_type": "code",
   "execution_count": null,
   "metadata": {},
   "outputs": [],
   "source": [
    "provincias = geopandas.read_file(\"datos/cr_provincias_wgs84_snit_ign_2019.shp\")\n",
    "\n",
    "ax = provincias.plot(edgecolor='black', facecolor='none', figsize=(15, 10))\n",
    "trogones.plot(ax=ax, color='red', markersize=5)\n",
    "ax.set(xlim=(-86.5, -82), ylim=(8, 11.25))"
   ]
  }
 ],
 "metadata": {
  "kernelspec": {
   "display_name": "Python 3 (ipykernel)",
   "language": "python",
   "name": "python3"
  },
  "language_info": {
   "codemirror_mode": {
    "name": "ipython",
    "version": 3
   },
   "file_extension": ".py",
   "mimetype": "text/x-python",
   "name": "python",
   "nbconvert_exporter": "python",
   "pygments_lexer": "ipython3",
   "version": "3.9.7"
  }
 },
 "nbformat": 4,
 "nbformat_minor": 2
}
