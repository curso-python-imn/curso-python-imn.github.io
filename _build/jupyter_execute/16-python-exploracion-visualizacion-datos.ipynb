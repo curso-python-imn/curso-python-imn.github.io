{
 "cells": [
  {
   "cell_type": "markdown",
   "id": "4959935a",
   "metadata": {},
   "source": [
    "# Python - exploración y visualización de datos"
   ]
  },
  {
   "cell_type": "markdown",
   "id": "13e68070",
   "metadata": {},
   "source": [
    "## Sobre el Titanic\n",
    "\n",
    "El [RMS Titanic](https://es.wikipedia.org/wiki/RMS_Titanic) fue un transatlántico británico que se hundió en 1912 durante su viaje inaugural entre Southampton y Nueva York. Fallecieron más de 1500 personas de las 2224 que viajaban en el barco.\n",
    "\n",
    "El naufragio del Titanic conmocionó e indignó al mundo entero por el elevado número de víctimas mortales y por los errores cometidos en el accidente. Solamente portaba botes salvavidas para 1178 pasajeros, poco más de la mitad de los que iban a bordo en su viaje inaugural y un tercio de su capacidad total de 3547 personas. \n",
    "\n",
    "El Titanic es quizá el barco más famoso de la historia y su memoria se mantiene muy viva gracias a numerosos libros, canciones, películas, exposiciones y memoriales."
   ]
  },
  {
   "cell_type": "markdown",
   "id": "7ed42c1c",
   "metadata": {},
   "source": [
    "![El RMS Titanic](https://upload.wikimedia.org/wikipedia/commons/thumb/f/fd/RMS_Titanic_3.jpg/800px-RMS_Titanic_3.jpg)"
   ]
  },
  {
   "cell_type": "markdown",
   "id": "69a93914",
   "metadata": {},
   "source": [
    "El RMS Titanic al salir de Southampton el 10 de abril de 1912. Imagen de dominio público disponible en [Wikimedia Commons](https://commons.wikimedia.org/wiki/File:RMS_Titanic_3.jpg)."
   ]
  },
  {
   "cell_type": "code",
   "execution_count": null,
   "id": "94b201c2",
   "metadata": {},
   "outputs": [],
   "source": []
  }
 ],
 "metadata": {
  "kernelspec": {
   "display_name": "Python 3 (ipykernel)",
   "language": "python",
   "name": "python3"
  },
  "language_info": {
   "codemirror_mode": {
    "name": "ipython",
    "version": 3
   },
   "file_extension": ".py",
   "mimetype": "text/x-python",
   "name": "python",
   "nbconvert_exporter": "python",
   "pygments_lexer": "ipython3",
   "version": "3.9.7"
  }
 },
 "nbformat": 4,
 "nbformat_minor": 5
}