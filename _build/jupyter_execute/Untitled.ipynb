{
 "cells": [
  {
   "cell_type": "code",
   "execution_count": 1,
   "id": "e42cc777",
   "metadata": {},
   "outputs": [
    {
     "name": "stdout",
     "output_type": "stream",
     "text": [
      "Hola mundo\n"
     ]
    }
   ],
   "source": [
    "print(\"Hola mundo\")"
   ]
  },
  {
   "cell_type": "markdown",
   "id": "aa500242",
   "metadata": {},
   "source": [
    "# Encabezado nivel 1"
   ]
  },
  {
   "cell_type": "markdown",
   "id": "5d394589",
   "metadata": {},
   "source": [
    "## Encabezado nivel 2"
   ]
  },
  {
   "cell_type": "markdown",
   "id": "6a3700ed",
   "metadata": {},
   "source": [
    "**negritas**"
   ]
  },
  {
   "cell_type": "markdown",
   "id": "66c45815",
   "metadata": {},
   "source": [
    "asdf asef afsd"
   ]
  },
  {
   "cell_type": "code",
   "execution_count": null,
   "id": "fae4eea5",
   "metadata": {},
   "outputs": [],
   "source": []
  }
 ],
 "metadata": {
  "kernelspec": {
   "display_name": "Python 3 (ipykernel)",
   "language": "python",
   "name": "python3"
  },
  "language_info": {
   "codemirror_mode": {
    "name": "ipython",
    "version": 3
   },
   "file_extension": ".py",
   "mimetype": "text/x-python",
   "name": "python",
   "nbconvert_exporter": "python",
   "pygments_lexer": "ipython3",
   "version": "3.9.7"
  }
 },
 "nbformat": 4,
 "nbformat_minor": 5
}