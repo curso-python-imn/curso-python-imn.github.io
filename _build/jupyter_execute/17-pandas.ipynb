{
 "cells": [
  {
   "cell_type": "markdown",
   "id": "4959935a",
   "metadata": {},
   "source": [
    "# La biblioteca pandas"
   ]
  },
  {
   "cell_type": "markdown",
   "id": "2352666f",
   "metadata": {},
   "source": [
    "[pandas](https://pandas.pydata.org/) es una biblioteca de Python para análisis y manipulación de datos. Proporciona estructuras de datos y operaciones para manejar tablas numéricas y series temporales."
   ]
  },
  {
   "cell_type": "markdown",
   "id": "fdb72431",
   "metadata": {},
   "source": [
    "## Instalación"
   ]
  },
  {
   "cell_type": "markdown",
   "id": "4127ea1d",
   "metadata": {},
   "source": [
    "pandas puede instalarse tanto mediante [Conda](https://conda.io/) como mediante [pip](https://pypi.org/project/pip/).\n",
    "\n",
    "```shell\n",
    "# Instalación mediante Conda\n",
    "conda install pandas\n",
    "\n",
    "# Instalación mediante pip\n",
    "pip install pandas\n",
    "```"
   ]
  },
  {
   "cell_type": "markdown",
   "id": "a79c75b3",
   "metadata": {},
   "source": [
    "## Carga\n",
    "Antes de cargar pandas, debe cargarse antes la biblioteca [numpy](https://numpy.org/), para operaciones de álgebra lineal. Nótese el uso de los alias np y pd, los cuales no son obligatorios, pero sí recomendados."
   ]
  },
  {
   "cell_type": "code",
   "execution_count": 1,
   "id": "c9c72708",
   "metadata": {},
   "outputs": [],
   "source": [
    "import numpy as np # biblioteca para álgebra lineal\n",
    "import pandas as pd # biblioteca para análisis de datos"
   ]
  },
  {
   "cell_type": "code",
   "execution_count": null,
   "id": "64648e52",
   "metadata": {},
   "outputs": [],
   "source": []
  }
 ],
 "metadata": {
  "kernelspec": {
   "display_name": "Python 3 (ipykernel)",
   "language": "python",
   "name": "python3"
  },
  "language_info": {
   "codemirror_mode": {
    "name": "ipython",
    "version": 3
   },
   "file_extension": ".py",
   "mimetype": "text/x-python",
   "name": "python",
   "nbconvert_exporter": "python",
   "pygments_lexer": "ipython3",
   "version": "3.9.7"
  }
 },
 "nbformat": 4,
 "nbformat_minor": 5
}