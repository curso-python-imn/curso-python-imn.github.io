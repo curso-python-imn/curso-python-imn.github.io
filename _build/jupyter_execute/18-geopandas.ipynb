{
 "cells": [
  {
   "cell_type": "markdown",
   "id": "4959935a",
   "metadata": {},
   "source": [
    "# La biblioteca geopandas"
   ]
  },
  {
   "cell_type": "markdown",
   "id": "2352666f",
   "metadata": {},
   "source": [
    "[GeoPandas](http://geopandas.org/) es un proyecto de software libre que extiende los tipos de datos de [Pandas](http://pandas.pydata.org/) para incorporar objetos geométricos (puntos, líneas, polígonos, etc). GeoPandas se apoya en las bibliotecas [Shapely](https://pypi.org/project/Shapely/) para realizar las operaciones geométricas, [Fiona](https://github.com/Toblerity/Fiona) para acceder a los datos (ej. en archivos) y [Descartes](https://bitbucket.org/sgillies/descartes/src/default/) y [Matplotlib](https://matplotlib.org/) para graficación.\n",
    "\n",
    "El objetivo de GeoPandas es facilitar el trabajo con datos geoespaciales en el lenguaje Python, lo que se logra a través de la implementación de nuevas estructuras. Las dos estructuras principales de GeoPandas son:\n",
    "\n",
    "- [GeoSeries](http://geopandas.org/data_structures.html#geoseries): es un vector en el que cada elemento es un conjunto de una o varias geometrías correspondientes a una observación. Por ejemplo, el polígono (o multipolígono) que representa una provincia.\n",
    "- [GeoDataFrame](http://geopandas.org/data_structures.html#geodataframe): es una estructura tabular (i.e. con filas y columnas) de datos geométricos y no geométricos (ej. textos, números). El conjunto de geometrías se implementa a través de GeoSeries."
   ]
  },
  {
   "cell_type": "markdown",
   "id": "fdb72431",
   "metadata": {},
   "source": [
    "## Instalación"
   ]
  },
  {
   "cell_type": "markdown",
   "id": "b40b99af",
   "metadata": {},
   "source": [
    "### En una estación de trabajo"
   ]
  },
  {
   "cell_type": "markdown",
   "id": "4127ea1d",
   "metadata": {},
   "source": [
    "geopandas puede instalarse tanto mediante [Conda](https://conda.io/) como mediante [pip](https://pypi.org/project/pip/).\n",
    "\n",
    "```shell\n",
    "# Instalación mediante Conda\n",
    "conda install geopandas\n",
    "\n",
    "# Instalación mediante pip\n",
    "pip install geopandas\n",
    "```"
   ]
  },
  {
   "cell_type": "markdown",
   "id": "1a63f1bb",
   "metadata": {},
   "source": [
    "### En Google Colab"
   ]
  },
  {
   "cell_type": "markdown",
   "id": "caf94e79",
   "metadata": {},
   "source": [
    "```shell\n",
    "# Instalación de bibliotecas de GDAL para Python\n",
    "!apt install gdal-bin python-gdal python3-gdal\n",
    "\n",
    "# Instalación de r-tree\n",
    "!apt install python3-rtree\n",
    "\n",
    "# Instalación de GeoPandas\n",
    "!pip install git+git://github.com/geopandas/geopandas.git\n",
    "\n",
    "# Instalación de Descartes\n",
    "!pip install descartes\n",
    "```"
   ]
  },
  {
   "cell_type": "markdown",
   "id": "a79c75b3",
   "metadata": {},
   "source": [
    "## Carga"
   ]
  },
  {
   "cell_type": "code",
   "execution_count": 1,
   "id": "c9c72708",
   "metadata": {},
   "outputs": [],
   "source": [
    "# Carga de bibliotecas\n",
    "import pandas as pd\n",
    "import numpy as np\n",
    "import geopandas as gpd\n",
    "from shapely.geometry import Point\n",
    "import matplotlib\n",
    "import matplotlib.pyplot as plt"
   ]
  },
  {
   "cell_type": "code",
   "execution_count": 2,
   "id": "15b118d0",
   "metadata": {},
   "outputs": [
    {
     "data": {
      "text/plain": [
       "'0.9.0'"
      ]
     },
     "execution_count": 2,
     "metadata": {},
     "output_type": "execute_result"
    }
   ],
   "source": [
    "# Versión de geopandas\n",
    "gpd.__version__"
   ]
  },
  {
   "cell_type": "markdown",
   "id": "da95e381",
   "metadata": {},
   "source": [
    "## Estructuras de datos\n",
    "Las dos principales estructuras de datos de geopandas son geoseries y geodataframes."
   ]
  },
  {
   "cell_type": "markdown",
   "id": "21a51430",
   "metadata": {},
   "source": [
    "## Operaciones básicas"
   ]
  },
  {
   "cell_type": "markdown",
   "id": "1cac5815",
   "metadata": {},
   "source": [
    "### read_file() - carga de datos"
   ]
  },
  {
   "cell_type": "code",
   "execution_count": 3,
   "id": "5cf59290",
   "metadata": {},
   "outputs": [
    {
     "data": {
      "text/html": [
       "<div>\n",
       "<style scoped>\n",
       "    .dataframe tbody tr th:only-of-type {\n",
       "        vertical-align: middle;\n",
       "    }\n",
       "\n",
       "    .dataframe tbody tr th {\n",
       "        vertical-align: top;\n",
       "    }\n",
       "\n",
       "    .dataframe thead th {\n",
       "        text-align: right;\n",
       "    }\n",
       "</style>\n",
       "<table border=\"1\" class=\"dataframe\">\n",
       "  <thead>\n",
       "    <tr style=\"text-align: right;\">\n",
       "      <th></th>\n",
       "      <th>pop_est</th>\n",
       "      <th>continent</th>\n",
       "      <th>name</th>\n",
       "      <th>iso_a3</th>\n",
       "      <th>gdp_md_est</th>\n",
       "      <th>geometry</th>\n",
       "    </tr>\n",
       "  </thead>\n",
       "  <tbody>\n",
       "    <tr>\n",
       "      <th>0</th>\n",
       "      <td>920938</td>\n",
       "      <td>Oceania</td>\n",
       "      <td>Fiji</td>\n",
       "      <td>FJI</td>\n",
       "      <td>8374.0</td>\n",
       "      <td>MULTIPOLYGON (((180.00000 -16.06713, 180.00000...</td>\n",
       "    </tr>\n",
       "    <tr>\n",
       "      <th>1</th>\n",
       "      <td>53950935</td>\n",
       "      <td>Africa</td>\n",
       "      <td>Tanzania</td>\n",
       "      <td>TZA</td>\n",
       "      <td>150600.0</td>\n",
       "      <td>POLYGON ((33.90371 -0.95000, 34.07262 -1.05982...</td>\n",
       "    </tr>\n",
       "    <tr>\n",
       "      <th>2</th>\n",
       "      <td>603253</td>\n",
       "      <td>Africa</td>\n",
       "      <td>W. Sahara</td>\n",
       "      <td>ESH</td>\n",
       "      <td>906.5</td>\n",
       "      <td>POLYGON ((-8.66559 27.65643, -8.66512 27.58948...</td>\n",
       "    </tr>\n",
       "    <tr>\n",
       "      <th>3</th>\n",
       "      <td>35623680</td>\n",
       "      <td>North America</td>\n",
       "      <td>Canada</td>\n",
       "      <td>CAN</td>\n",
       "      <td>1674000.0</td>\n",
       "      <td>MULTIPOLYGON (((-122.84000 49.00000, -122.9742...</td>\n",
       "    </tr>\n",
       "    <tr>\n",
       "      <th>4</th>\n",
       "      <td>326625791</td>\n",
       "      <td>North America</td>\n",
       "      <td>United States of America</td>\n",
       "      <td>USA</td>\n",
       "      <td>18560000.0</td>\n",
       "      <td>MULTIPOLYGON (((-122.84000 49.00000, -120.0000...</td>\n",
       "    </tr>\n",
       "    <tr>\n",
       "      <th>...</th>\n",
       "      <td>...</td>\n",
       "      <td>...</td>\n",
       "      <td>...</td>\n",
       "      <td>...</td>\n",
       "      <td>...</td>\n",
       "      <td>...</td>\n",
       "    </tr>\n",
       "    <tr>\n",
       "      <th>172</th>\n",
       "      <td>7111024</td>\n",
       "      <td>Europe</td>\n",
       "      <td>Serbia</td>\n",
       "      <td>SRB</td>\n",
       "      <td>101800.0</td>\n",
       "      <td>POLYGON ((18.82982 45.90887, 18.82984 45.90888...</td>\n",
       "    </tr>\n",
       "    <tr>\n",
       "      <th>173</th>\n",
       "      <td>642550</td>\n",
       "      <td>Europe</td>\n",
       "      <td>Montenegro</td>\n",
       "      <td>MNE</td>\n",
       "      <td>10610.0</td>\n",
       "      <td>POLYGON ((20.07070 42.58863, 19.80161 42.50009...</td>\n",
       "    </tr>\n",
       "    <tr>\n",
       "      <th>174</th>\n",
       "      <td>1895250</td>\n",
       "      <td>Europe</td>\n",
       "      <td>Kosovo</td>\n",
       "      <td>-99</td>\n",
       "      <td>18490.0</td>\n",
       "      <td>POLYGON ((20.59025 41.85541, 20.52295 42.21787...</td>\n",
       "    </tr>\n",
       "    <tr>\n",
       "      <th>175</th>\n",
       "      <td>1218208</td>\n",
       "      <td>North America</td>\n",
       "      <td>Trinidad and Tobago</td>\n",
       "      <td>TTO</td>\n",
       "      <td>43570.0</td>\n",
       "      <td>POLYGON ((-61.68000 10.76000, -61.10500 10.890...</td>\n",
       "    </tr>\n",
       "    <tr>\n",
       "      <th>176</th>\n",
       "      <td>13026129</td>\n",
       "      <td>Africa</td>\n",
       "      <td>S. Sudan</td>\n",
       "      <td>SSD</td>\n",
       "      <td>20880.0</td>\n",
       "      <td>POLYGON ((30.83385 3.50917, 29.95350 4.17370, ...</td>\n",
       "    </tr>\n",
       "  </tbody>\n",
       "</table>\n",
       "<p>177 rows × 6 columns</p>\n",
       "</div>"
      ],
      "text/plain": [
       "       pop_est      continent                      name iso_a3  gdp_md_est  \\\n",
       "0       920938        Oceania                      Fiji    FJI      8374.0   \n",
       "1     53950935         Africa                  Tanzania    TZA    150600.0   \n",
       "2       603253         Africa                 W. Sahara    ESH       906.5   \n",
       "3     35623680  North America                    Canada    CAN   1674000.0   \n",
       "4    326625791  North America  United States of America    USA  18560000.0   \n",
       "..         ...            ...                       ...    ...         ...   \n",
       "172    7111024         Europe                    Serbia    SRB    101800.0   \n",
       "173     642550         Europe                Montenegro    MNE     10610.0   \n",
       "174    1895250         Europe                    Kosovo    -99     18490.0   \n",
       "175    1218208  North America       Trinidad and Tobago    TTO     43570.0   \n",
       "176   13026129         Africa                  S. Sudan    SSD     20880.0   \n",
       "\n",
       "                                              geometry  \n",
       "0    MULTIPOLYGON (((180.00000 -16.06713, 180.00000...  \n",
       "1    POLYGON ((33.90371 -0.95000, 34.07262 -1.05982...  \n",
       "2    POLYGON ((-8.66559 27.65643, -8.66512 27.58948...  \n",
       "3    MULTIPOLYGON (((-122.84000 49.00000, -122.9742...  \n",
       "4    MULTIPOLYGON (((-122.84000 49.00000, -120.0000...  \n",
       "..                                                 ...  \n",
       "172  POLYGON ((18.82982 45.90887, 18.82984 45.90888...  \n",
       "173  POLYGON ((20.07070 42.58863, 19.80161 42.50009...  \n",
       "174  POLYGON ((20.59025 41.85541, 20.52295 42.21787...  \n",
       "175  POLYGON ((-61.68000 10.76000, -61.10500 10.890...  \n",
       "176  POLYGON ((30.83385 3.50917, 29.95350 4.17370, ...  \n",
       "\n",
       "[177 rows x 6 columns]"
      ]
     },
     "execution_count": 3,
     "metadata": {},
     "output_type": "execute_result"
    }
   ],
   "source": [
    "# Lectura de datos de países\n",
    "paises = gpd.read_file(gpd.datasets.get_path('naturalearth_lowres'))\n",
    "\n",
    "paises"
   ]
  },
  {
   "cell_type": "markdown",
   "id": "b6c3ee87",
   "metadata": {},
   "source": [
    "### info() - información general sobre un conjunto de datos"
   ]
  },
  {
   "cell_type": "code",
   "execution_count": 4,
   "id": "865c05ec",
   "metadata": {},
   "outputs": [
    {
     "name": "stdout",
     "output_type": "stream",
     "text": [
      "<class 'geopandas.geodataframe.GeoDataFrame'>\n",
      "RangeIndex: 177 entries, 0 to 176\n",
      "Data columns (total 6 columns):\n",
      " #   Column      Non-Null Count  Dtype   \n",
      "---  ------      --------------  -----   \n",
      " 0   pop_est     177 non-null    int64   \n",
      " 1   continent   177 non-null    object  \n",
      " 2   name        177 non-null    object  \n",
      " 3   iso_a3      177 non-null    object  \n",
      " 4   gdp_md_est  177 non-null    float64 \n",
      " 5   geometry    177 non-null    geometry\n",
      "dtypes: float64(1), geometry(1), int64(1), object(3)\n",
      "memory usage: 8.4+ KB\n"
     ]
    }
   ],
   "source": [
    "paises.info()"
   ]
  },
  {
   "cell_type": "markdown",
   "id": "19a2bdac",
   "metadata": {},
   "source": [
    "### head(), tail(), sample() - despliegue de filas de un conjunto de datos"
   ]
  },
  {
   "cell_type": "code",
   "execution_count": 5,
   "id": "ed2b0d05",
   "metadata": {},
   "outputs": [
    {
     "data": {
      "text/html": [
       "<div>\n",
       "<style scoped>\n",
       "    .dataframe tbody tr th:only-of-type {\n",
       "        vertical-align: middle;\n",
       "    }\n",
       "\n",
       "    .dataframe tbody tr th {\n",
       "        vertical-align: top;\n",
       "    }\n",
       "\n",
       "    .dataframe thead th {\n",
       "        text-align: right;\n",
       "    }\n",
       "</style>\n",
       "<table border=\"1\" class=\"dataframe\">\n",
       "  <thead>\n",
       "    <tr style=\"text-align: right;\">\n",
       "      <th></th>\n",
       "      <th>pop_est</th>\n",
       "      <th>continent</th>\n",
       "      <th>name</th>\n",
       "      <th>iso_a3</th>\n",
       "      <th>gdp_md_est</th>\n",
       "      <th>geometry</th>\n",
       "    </tr>\n",
       "  </thead>\n",
       "  <tbody>\n",
       "    <tr>\n",
       "      <th>0</th>\n",
       "      <td>920938</td>\n",
       "      <td>Oceania</td>\n",
       "      <td>Fiji</td>\n",
       "      <td>FJI</td>\n",
       "      <td>8374.0</td>\n",
       "      <td>MULTIPOLYGON (((180.00000 -16.06713, 180.00000...</td>\n",
       "    </tr>\n",
       "    <tr>\n",
       "      <th>1</th>\n",
       "      <td>53950935</td>\n",
       "      <td>Africa</td>\n",
       "      <td>Tanzania</td>\n",
       "      <td>TZA</td>\n",
       "      <td>150600.0</td>\n",
       "      <td>POLYGON ((33.90371 -0.95000, 34.07262 -1.05982...</td>\n",
       "    </tr>\n",
       "    <tr>\n",
       "      <th>2</th>\n",
       "      <td>603253</td>\n",
       "      <td>Africa</td>\n",
       "      <td>W. Sahara</td>\n",
       "      <td>ESH</td>\n",
       "      <td>906.5</td>\n",
       "      <td>POLYGON ((-8.66559 27.65643, -8.66512 27.58948...</td>\n",
       "    </tr>\n",
       "    <tr>\n",
       "      <th>3</th>\n",
       "      <td>35623680</td>\n",
       "      <td>North America</td>\n",
       "      <td>Canada</td>\n",
       "      <td>CAN</td>\n",
       "      <td>1674000.0</td>\n",
       "      <td>MULTIPOLYGON (((-122.84000 49.00000, -122.9742...</td>\n",
       "    </tr>\n",
       "    <tr>\n",
       "      <th>4</th>\n",
       "      <td>326625791</td>\n",
       "      <td>North America</td>\n",
       "      <td>United States of America</td>\n",
       "      <td>USA</td>\n",
       "      <td>18560000.0</td>\n",
       "      <td>MULTIPOLYGON (((-122.84000 49.00000, -120.0000...</td>\n",
       "    </tr>\n",
       "    <tr>\n",
       "      <th>5</th>\n",
       "      <td>18556698</td>\n",
       "      <td>Asia</td>\n",
       "      <td>Kazakhstan</td>\n",
       "      <td>KAZ</td>\n",
       "      <td>460700.0</td>\n",
       "      <td>POLYGON ((87.35997 49.21498, 86.59878 48.54918...</td>\n",
       "    </tr>\n",
       "    <tr>\n",
       "      <th>6</th>\n",
       "      <td>29748859</td>\n",
       "      <td>Asia</td>\n",
       "      <td>Uzbekistan</td>\n",
       "      <td>UZB</td>\n",
       "      <td>202300.0</td>\n",
       "      <td>POLYGON ((55.96819 41.30864, 55.92892 44.99586...</td>\n",
       "    </tr>\n",
       "    <tr>\n",
       "      <th>7</th>\n",
       "      <td>6909701</td>\n",
       "      <td>Oceania</td>\n",
       "      <td>Papua New Guinea</td>\n",
       "      <td>PNG</td>\n",
       "      <td>28020.0</td>\n",
       "      <td>MULTIPOLYGON (((141.00021 -2.60015, 142.73525 ...</td>\n",
       "    </tr>\n",
       "    <tr>\n",
       "      <th>8</th>\n",
       "      <td>260580739</td>\n",
       "      <td>Asia</td>\n",
       "      <td>Indonesia</td>\n",
       "      <td>IDN</td>\n",
       "      <td>3028000.0</td>\n",
       "      <td>MULTIPOLYGON (((141.00021 -2.60015, 141.01706 ...</td>\n",
       "    </tr>\n",
       "    <tr>\n",
       "      <th>9</th>\n",
       "      <td>44293293</td>\n",
       "      <td>South America</td>\n",
       "      <td>Argentina</td>\n",
       "      <td>ARG</td>\n",
       "      <td>879400.0</td>\n",
       "      <td>MULTIPOLYGON (((-68.63401 -52.63637, -68.25000...</td>\n",
       "    </tr>\n",
       "  </tbody>\n",
       "</table>\n",
       "</div>"
      ],
      "text/plain": [
       "     pop_est      continent                      name iso_a3  gdp_md_est  \\\n",
       "0     920938        Oceania                      Fiji    FJI      8374.0   \n",
       "1   53950935         Africa                  Tanzania    TZA    150600.0   \n",
       "2     603253         Africa                 W. Sahara    ESH       906.5   \n",
       "3   35623680  North America                    Canada    CAN   1674000.0   \n",
       "4  326625791  North America  United States of America    USA  18560000.0   \n",
       "5   18556698           Asia                Kazakhstan    KAZ    460700.0   \n",
       "6   29748859           Asia                Uzbekistan    UZB    202300.0   \n",
       "7    6909701        Oceania          Papua New Guinea    PNG     28020.0   \n",
       "8  260580739           Asia                 Indonesia    IDN   3028000.0   \n",
       "9   44293293  South America                 Argentina    ARG    879400.0   \n",
       "\n",
       "                                            geometry  \n",
       "0  MULTIPOLYGON (((180.00000 -16.06713, 180.00000...  \n",
       "1  POLYGON ((33.90371 -0.95000, 34.07262 -1.05982...  \n",
       "2  POLYGON ((-8.66559 27.65643, -8.66512 27.58948...  \n",
       "3  MULTIPOLYGON (((-122.84000 49.00000, -122.9742...  \n",
       "4  MULTIPOLYGON (((-122.84000 49.00000, -120.0000...  \n",
       "5  POLYGON ((87.35997 49.21498, 86.59878 48.54918...  \n",
       "6  POLYGON ((55.96819 41.30864, 55.92892 44.99586...  \n",
       "7  MULTIPOLYGON (((141.00021 -2.60015, 142.73525 ...  \n",
       "8  MULTIPOLYGON (((141.00021 -2.60015, 141.01706 ...  \n",
       "9  MULTIPOLYGON (((-68.63401 -52.63637, -68.25000...  "
      ]
     },
     "execution_count": 5,
     "metadata": {},
     "output_type": "execute_result"
    }
   ],
   "source": [
    "# Muestra de 10 filas\n",
    "paises.head(10)"
   ]
  },
  {
   "cell_type": "markdown",
   "id": "b89dc2bd",
   "metadata": {},
   "source": [
    "### Selección de columnas"
   ]
  },
  {
   "cell_type": "code",
   "execution_count": 6,
   "id": "e5e83d00",
   "metadata": {},
   "outputs": [
    {
     "data": {
      "text/html": [
       "<div>\n",
       "<style scoped>\n",
       "    .dataframe tbody tr th:only-of-type {\n",
       "        vertical-align: middle;\n",
       "    }\n",
       "\n",
       "    .dataframe tbody tr th {\n",
       "        vertical-align: top;\n",
       "    }\n",
       "\n",
       "    .dataframe thead th {\n",
       "        text-align: right;\n",
       "    }\n",
       "</style>\n",
       "<table border=\"1\" class=\"dataframe\">\n",
       "  <thead>\n",
       "    <tr style=\"text-align: right;\">\n",
       "      <th></th>\n",
       "      <th>name</th>\n",
       "      <th>pop_est</th>\n",
       "    </tr>\n",
       "  </thead>\n",
       "  <tbody>\n",
       "    <tr>\n",
       "      <th>0</th>\n",
       "      <td>Fiji</td>\n",
       "      <td>920938</td>\n",
       "    </tr>\n",
       "    <tr>\n",
       "      <th>1</th>\n",
       "      <td>Tanzania</td>\n",
       "      <td>53950935</td>\n",
       "    </tr>\n",
       "    <tr>\n",
       "      <th>2</th>\n",
       "      <td>W. Sahara</td>\n",
       "      <td>603253</td>\n",
       "    </tr>\n",
       "    <tr>\n",
       "      <th>3</th>\n",
       "      <td>Canada</td>\n",
       "      <td>35623680</td>\n",
       "    </tr>\n",
       "    <tr>\n",
       "      <th>4</th>\n",
       "      <td>United States of America</td>\n",
       "      <td>326625791</td>\n",
       "    </tr>\n",
       "    <tr>\n",
       "      <th>...</th>\n",
       "      <td>...</td>\n",
       "      <td>...</td>\n",
       "    </tr>\n",
       "    <tr>\n",
       "      <th>172</th>\n",
       "      <td>Serbia</td>\n",
       "      <td>7111024</td>\n",
       "    </tr>\n",
       "    <tr>\n",
       "      <th>173</th>\n",
       "      <td>Montenegro</td>\n",
       "      <td>642550</td>\n",
       "    </tr>\n",
       "    <tr>\n",
       "      <th>174</th>\n",
       "      <td>Kosovo</td>\n",
       "      <td>1895250</td>\n",
       "    </tr>\n",
       "    <tr>\n",
       "      <th>175</th>\n",
       "      <td>Trinidad and Tobago</td>\n",
       "      <td>1218208</td>\n",
       "    </tr>\n",
       "    <tr>\n",
       "      <th>176</th>\n",
       "      <td>S. Sudan</td>\n",
       "      <td>13026129</td>\n",
       "    </tr>\n",
       "  </tbody>\n",
       "</table>\n",
       "<p>177 rows × 2 columns</p>\n",
       "</div>"
      ],
      "text/plain": [
       "                         name    pop_est\n",
       "0                        Fiji     920938\n",
       "1                    Tanzania   53950935\n",
       "2                   W. Sahara     603253\n",
       "3                      Canada   35623680\n",
       "4    United States of America  326625791\n",
       "..                        ...        ...\n",
       "172                    Serbia    7111024\n",
       "173                Montenegro     642550\n",
       "174                    Kosovo    1895250\n",
       "175       Trinidad and Tobago    1218208\n",
       "176                  S. Sudan   13026129\n",
       "\n",
       "[177 rows x 2 columns]"
      ]
     },
     "execution_count": 6,
     "metadata": {},
     "output_type": "execute_result"
    }
   ],
   "source": [
    "paises[[\"name\", \"pop_est\"]]"
   ]
  },
  {
   "cell_type": "markdown",
   "id": "198bb0c3",
   "metadata": {},
   "source": [
    "### Selección de filas"
   ]
  },
  {
   "cell_type": "code",
   "execution_count": 7,
   "id": "af323315",
   "metadata": {},
   "outputs": [
    {
     "data": {
      "text/html": [
       "<div>\n",
       "<style scoped>\n",
       "    .dataframe tbody tr th:only-of-type {\n",
       "        vertical-align: middle;\n",
       "    }\n",
       "\n",
       "    .dataframe tbody tr th {\n",
       "        vertical-align: top;\n",
       "    }\n",
       "\n",
       "    .dataframe thead th {\n",
       "        text-align: right;\n",
       "    }\n",
       "</style>\n",
       "<table border=\"1\" class=\"dataframe\">\n",
       "  <thead>\n",
       "    <tr style=\"text-align: right;\">\n",
       "      <th></th>\n",
       "      <th>pop_est</th>\n",
       "      <th>continent</th>\n",
       "      <th>name</th>\n",
       "      <th>iso_a3</th>\n",
       "      <th>gdp_md_est</th>\n",
       "      <th>geometry</th>\n",
       "    </tr>\n",
       "  </thead>\n",
       "  <tbody>\n",
       "    <tr>\n",
       "      <th>98</th>\n",
       "      <td>1281935911</td>\n",
       "      <td>Asia</td>\n",
       "      <td>India</td>\n",
       "      <td>IND</td>\n",
       "      <td>8721000.0</td>\n",
       "      <td>POLYGON ((97.32711 28.26158, 97.40256 27.88254...</td>\n",
       "    </tr>\n",
       "    <tr>\n",
       "      <th>139</th>\n",
       "      <td>1379302771</td>\n",
       "      <td>Asia</td>\n",
       "      <td>China</td>\n",
       "      <td>CHN</td>\n",
       "      <td>21140000.0</td>\n",
       "      <td>MULTIPOLYGON (((109.47521 18.19770, 108.65521 ...</td>\n",
       "    </tr>\n",
       "  </tbody>\n",
       "</table>\n",
       "</div>"
      ],
      "text/plain": [
       "        pop_est continent   name iso_a3  gdp_md_est  \\\n",
       "98   1281935911      Asia  India    IND   8721000.0   \n",
       "139  1379302771      Asia  China    CHN  21140000.0   \n",
       "\n",
       "                                              geometry  \n",
       "98   POLYGON ((97.32711 28.26158, 97.40256 27.88254...  \n",
       "139  MULTIPOLYGON (((109.47521 18.19770, 108.65521 ...  "
      ]
     },
     "execution_count": 7,
     "metadata": {},
     "output_type": "execute_result"
    }
   ],
   "source": [
    "# Países con población estimada mayor o igual a mil millones\n",
    "paises[paises[\"pop_est\"] >= 1000000000]"
   ]
  },
  {
   "cell_type": "markdown",
   "id": "adb86eb2",
   "metadata": {},
   "source": [
    "### Selección de filas y columnas en la misma expresión"
   ]
  },
  {
   "cell_type": "code",
   "execution_count": 8,
   "id": "139e8a9d",
   "metadata": {},
   "outputs": [
    {
     "data": {
      "text/html": [
       "<div>\n",
       "<style scoped>\n",
       "    .dataframe tbody tr th:only-of-type {\n",
       "        vertical-align: middle;\n",
       "    }\n",
       "\n",
       "    .dataframe tbody tr th {\n",
       "        vertical-align: top;\n",
       "    }\n",
       "\n",
       "    .dataframe thead th {\n",
       "        text-align: right;\n",
       "    }\n",
       "</style>\n",
       "<table border=\"1\" class=\"dataframe\">\n",
       "  <thead>\n",
       "    <tr style=\"text-align: right;\">\n",
       "      <th></th>\n",
       "      <th>name</th>\n",
       "      <th>pop_est</th>\n",
       "    </tr>\n",
       "  </thead>\n",
       "  <tbody>\n",
       "    <tr>\n",
       "      <th>98</th>\n",
       "      <td>India</td>\n",
       "      <td>1281935911</td>\n",
       "    </tr>\n",
       "    <tr>\n",
       "      <th>139</th>\n",
       "      <td>China</td>\n",
       "      <td>1379302771</td>\n",
       "    </tr>\n",
       "  </tbody>\n",
       "</table>\n",
       "</div>"
      ],
      "text/plain": [
       "      name     pop_est\n",
       "98   India  1281935911\n",
       "139  China  1379302771"
      ]
     },
     "execution_count": 8,
     "metadata": {},
     "output_type": "execute_result"
    }
   ],
   "source": [
    "paises.loc[paises[\"pop_est\"] >= 1000000000, [\"name\", \"pop_est\"]]"
   ]
  },
  {
   "cell_type": "markdown",
   "id": "e8496161",
   "metadata": {},
   "source": [
    "### plot() - mapeo"
   ]
  },
  {
   "cell_type": "code",
   "execution_count": 9,
   "id": "cc9bdf2e",
   "metadata": {},
   "outputs": [
    {
     "data": {
      "text/plain": [
       "<AxesSubplot:>"
      ]
     },
     "execution_count": 9,
     "metadata": {},
     "output_type": "execute_result"
    },
    {
     "data": {
      "image/png": "[encoded data removed]",
      "text/plain": [
       "<Figure size 432x288 with 1 Axes>"
      ]
     },
     "metadata": {
      "filenames": {
       "image/png": "/home/mfvargas/curso-python-imn/curso-python-imn.github.io/_build/jupyter_execute/18-geopandas_25_1.png"
      },
      "needs_background": "light"
     },
     "output_type": "display_data"
    }
   ],
   "source": [
    "# Mapa de coropletas\n",
    "paises.plot(column = \"pop_est\")"
   ]
  },
  {
   "cell_type": "code",
   "execution_count": null,
   "id": "f55bf7d3",
   "metadata": {},
   "outputs": [],
   "source": []
  }
 ],
 "metadata": {
  "kernelspec": {
   "display_name": "Python 3 (ipykernel)",
   "language": "python",
   "name": "python3"
  },
  "language_info": {
   "codemirror_mode": {
    "name": "ipython",
    "version": 3
   },
   "file_extension": ".py",
   "mimetype": "text/x-python",
   "name": "python",
   "nbconvert_exporter": "python",
   "pygments_lexer": "ipython3",
   "version": "3.9.7"
  }
 },
 "nbformat": 4,
 "nbformat_minor": 5
}